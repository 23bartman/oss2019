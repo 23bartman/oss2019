{
 "cells": [
  {
   "cell_type": "markdown",
   "metadata": {},
   "source": [
    "## remove emails"
   ]
  },
  {
   "cell_type": "code",
   "execution_count": 11,
   "metadata": {},
   "outputs": [],
   "source": [
    "#%load_ext autoreload\n",
    "#%autoreload\n",
    "from oss_hugo.OSS_GSheet_Data import OSS_GSheet_Data\n",
    "from oss_hugo.API_Hugo_OSS import API_Hugo_OSS"
   ]
  },
  {
   "cell_type": "code",
   "execution_count": 21,
   "metadata": {},
   "outputs": [],
   "source": [
    "%autoreload\n",
    "data = OSS_GSheet_Data()\n",
    "hugo = API_Hugo_OSS()"
   ]
  },
  {
   "cell_type": "code",
   "execution_count": 44,
   "metadata": {},
   "outputs": [
    {
     "data": {
      "application/vnd.jupyter.widget-view+json": {
       "model_id": "3d70ff1f07a64eeaad774e153b55a3dc",
       "version_major": 2,
       "version_minor": 0
      },
      "text/plain": [
       "QgridWidget(grid_options={'fullWidthRows': True, 'syncColumnCellResize': True, 'forceFitColumns': True, 'defau…"
      ]
     },
     "metadata": {},
     "output_type": "display_data"
    }
   ],
   "source": [
    "grid = hugo.qgrid_participants(['title','email'])\n",
    "grid"
   ]
  },
  {
   "cell_type": "code",
   "execution_count": 51,
   "metadata": {},
   "outputs": [
    {
     "data": {
      "text/html": [
       "<div>\n",
       "<style scoped>\n",
       "    .dataframe tbody tr th:only-of-type {\n",
       "        vertical-align: middle;\n",
       "    }\n",
       "\n",
       "    .dataframe tbody tr th {\n",
       "        vertical-align: top;\n",
       "    }\n",
       "\n",
       "    .dataframe thead th {\n",
       "        text-align: right;\n",
       "    }\n",
       "</style>\n",
       "<table border=\"1\" class=\"dataframe\">\n",
       "  <thead>\n",
       "    <tr style=\"text-align: right;\">\n",
       "      <th></th>\n",
       "      <th>title</th>\n",
       "      <th>email</th>\n",
       "    </tr>\n",
       "  </thead>\n",
       "  <tbody>\n",
       "    <tr>\n",
       "      <th>0</th>\n",
       "      <td>Adrian Winckles</td>\n",
       "      <td>adrian.wincklesa@owasp.org</td>\n",
       "    </tr>\n",
       "    <tr>\n",
       "      <th>1</th>\n",
       "      <td>Arpit Agrawal</td>\n",
       "      <td>agrawal.arpit14@gmail.com</td>\n",
       "    </tr>\n",
       "    <tr>\n",
       "      <th>2</th>\n",
       "      <td>Bjoern Kimminich</td>\n",
       "      <td>bjoern.kimminich@owasp.org</td>\n",
       "    </tr>\n",
       "    <tr>\n",
       "      <th>3</th>\n",
       "      <td>Claudio Camerino</td>\n",
       "      <td>camerinorama@gmail.com</td>\n",
       "    </tr>\n",
       "    <tr>\n",
       "      <th>4</th>\n",
       "      <td>Didar Gelici</td>\n",
       "      <td>didadida@gmail.com</td>\n",
       "    </tr>\n",
       "    <tr>\n",
       "      <th>5</th>\n",
       "      <td>Dinis Cruz</td>\n",
       "      <td>dinis.cruz@owasp.org</td>\n",
       "    </tr>\n",
       "    <tr>\n",
       "      <th>6</th>\n",
       "      <td>Dominik de Smit</td>\n",
       "      <td>dominik.de.smit@araido.com</td>\n",
       "    </tr>\n",
       "    <tr>\n",
       "      <th>7</th>\n",
       "      <td>Francisco Novo</td>\n",
       "      <td>fjnovo@gmail.com</td>\n",
       "    </tr>\n",
       "    <tr>\n",
       "      <th>8</th>\n",
       "      <td>Hardik Parekh</td>\n",
       "      <td>hardikkparekh@yahoo.com</td>\n",
       "    </tr>\n",
       "    <tr>\n",
       "      <th>9</th>\n",
       "      <td>Phil Winstanley</td>\n",
       "      <td>hi@plip.ms</td>\n",
       "    </tr>\n",
       "    <tr>\n",
       "      <th>10</th>\n",
       "      <td>Nick Drage</td>\n",
       "      <td>info@pathdependence.co.uk</td>\n",
       "    </tr>\n",
       "    <tr>\n",
       "      <th>11</th>\n",
       "      <td>Irene Michlin</td>\n",
       "      <td>irene221b@gmail.com</td>\n",
       "    </tr>\n",
       "    <tr>\n",
       "      <th>12</th>\n",
       "      <td>Jannik Hollenbach</td>\n",
       "      <td>jannik.hollenbach@owasp.org</td>\n",
       "    </tr>\n",
       "    <tr>\n",
       "      <th>13</th>\n",
       "      <td>Jeroen Willemsen</td>\n",
       "      <td>jeroen.willemsen@owasp.org</td>\n",
       "    </tr>\n",
       "    <tr>\n",
       "      <th>14</th>\n",
       "      <td>Jean-Jacques MOIROUX</td>\n",
       "      <td>jmoiroux@mimecast.com</td>\n",
       "    </tr>\n",
       "    <tr>\n",
       "      <th>15</th>\n",
       "      <td>Khaled Fattal</td>\n",
       "      <td>kf@mligrp.com</td>\n",
       "    </tr>\n",
       "    <tr>\n",
       "      <th>16</th>\n",
       "      <td>Luis Saiz</td>\n",
       "      <td>luis.saiz@bbva.com</td>\n",
       "    </tr>\n",
       "    <tr>\n",
       "      <th>17</th>\n",
       "      <td>Paulino Calderon</td>\n",
       "      <td>paulino.calderonpale@owasp.org</td>\n",
       "    </tr>\n",
       "    <tr>\n",
       "      <th>18</th>\n",
       "      <td>Sebastien Deleersnyder</td>\n",
       "      <td>seba@owasp.org</td>\n",
       "    </tr>\n",
       "    <tr>\n",
       "      <th>19</th>\n",
       "      <td>Sebastian Arriada</td>\n",
       "      <td>sebastian.arriada@globant.com</td>\n",
       "    </tr>\n",
       "    <tr>\n",
       "      <th>20</th>\n",
       "      <td>Steven Wierckx</td>\n",
       "      <td>swierkcx@gmail.com</td>\n",
       "    </tr>\n",
       "    <tr>\n",
       "      <th>21</th>\n",
       "      <td>Tony Richards</td>\n",
       "      <td>tony@tyr-industries.com</td>\n",
       "    </tr>\n",
       "    <tr>\n",
       "      <th>22</th>\n",
       "      <td>Zsolt Kalman</td>\n",
       "      <td>zsolt.kalman@avatao.com</td>\n",
       "    </tr>\n",
       "    <tr>\n",
       "      <th>23</th>\n",
       "      <td>NaN</td>\n",
       "      <td>NaN</td>\n",
       "    </tr>\n",
       "    <tr>\n",
       "      <th>24</th>\n",
       "      <td>John Dileo</td>\n",
       "      <td>NaN</td>\n",
       "    </tr>\n",
       "    <tr>\n",
       "      <th>25</th>\n",
       "      <td>Geoff Hill</td>\n",
       "      <td>NaN</td>\n",
       "    </tr>\n",
       "    <tr>\n",
       "      <th>26</th>\n",
       "      <td>Felipe Zipitria</td>\n",
       "      <td>NaN</td>\n",
       "    </tr>\n",
       "  </tbody>\n",
       "</table>\n",
       "</div>"
      ],
      "text/plain": [
       "                     title                           email\n",
       "0          Adrian Winckles      adrian.wincklesa@owasp.org\n",
       "1            Arpit Agrawal       agrawal.arpit14@gmail.com\n",
       "2         Bjoern Kimminich      bjoern.kimminich@owasp.org\n",
       "3         Claudio Camerino          camerinorama@gmail.com\n",
       "4             Didar Gelici              didadida@gmail.com\n",
       "5               Dinis Cruz            dinis.cruz@owasp.org\n",
       "6          Dominik de Smit      dominik.de.smit@araido.com\n",
       "7           Francisco Novo                fjnovo@gmail.com\n",
       "8            Hardik Parekh         hardikkparekh@yahoo.com\n",
       "9          Phil Winstanley                      hi@plip.ms\n",
       "10              Nick Drage       info@pathdependence.co.uk\n",
       "11           Irene Michlin             irene221b@gmail.com\n",
       "12       Jannik Hollenbach     jannik.hollenbach@owasp.org\n",
       "13        Jeroen Willemsen      jeroen.willemsen@owasp.org\n",
       "14    Jean-Jacques MOIROUX           jmoiroux@mimecast.com\n",
       "15           Khaled Fattal                   kf@mligrp.com\n",
       "16               Luis Saiz              luis.saiz@bbva.com\n",
       "17        Paulino Calderon  paulino.calderonpale@owasp.org\n",
       "18  Sebastien Deleersnyder                  seba@owasp.org\n",
       "19       Sebastian Arriada   sebastian.arriada@globant.com\n",
       "20          Steven Wierckx              swierkcx@gmail.com\n",
       "21           Tony Richards         tony@tyr-industries.com\n",
       "22            Zsolt Kalman         zsolt.kalman@avatao.com\n",
       "23                     NaN                             NaN\n",
       "24              John Dileo                             NaN\n",
       "25              Geoff Hill                             NaN\n",
       "26         Felipe Zipitria                             NaN"
      ]
     },
     "execution_count": 51,
     "metadata": {},
     "output_type": "execute_result"
    }
   ],
   "source": [
    "grid.get_changed_df().reset_index(drop=True)"
   ]
  },
  {
   "cell_type": "code",
   "execution_count": null,
   "metadata": {},
   "outputs": [],
   "source": []
  },
  {
   "cell_type": "code",
   "execution_count": 36,
   "metadata": {},
   "outputs": [
    {
     "data": {
      "text/plain": [
       "['chapter_leader',\n",
       " 'company',\n",
       " 'email',\n",
       " 'facebook',\n",
       " 'featured',\n",
       " 'image',\n",
       " 'job_title',\n",
       " 'layout',\n",
       " 'linkedin',\n",
       " 'night_where',\n",
       " 'notes',\n",
       " 'pre_summit',\n",
       " 'project_leader',\n",
       " 'role',\n",
       " 'sessions',\n",
       " 'status',\n",
       " 'title',\n",
       " 'tracks',\n",
       " 'travel-from',\n",
       " 'travel_from',\n",
       " 'twitter',\n",
       " 'type',\n",
       " 'website',\n",
       " 'working_sessions']"
      ]
     },
     "execution_count": 36,
     "metadata": {},
     "output_type": "execute_result"
    }
   ],
   "source": [
    "hugo.df_participants().columns.to_list()"
   ]
  },
  {
   "cell_type": "code",
   "execution_count": 25,
   "metadata": {},
   "outputs": [
    {
     "data": {
      "application/vnd.jupyter.widget-view+json": {
       "model_id": "1e19414a35cb499b81440cc88167a631",
       "version_major": 2,
       "version_minor": 0
      },
      "text/plain": [
       "QgridWidget(grid_options={'fullWidthRows': True, 'syncColumnCellResize': True, 'forceFitColumns': True, 'defau…"
      ]
     },
     "metadata": {},
     "output_type": "display_data"
    }
   ],
   "source": []
  },
  {
   "cell_type": "code",
   "execution_count": null,
   "metadata": {},
   "outputs": [],
   "source": []
  }
 ],
 "metadata": {
  "kernelspec": {
   "display_name": "Python 3",
   "language": "python",
   "name": "python3"
  },
  "language_info": {
   "codemirror_mode": {
    "name": "ipython",
    "version": 3
   },
   "file_extension": ".py",
   "mimetype": "text/x-python",
   "name": "python",
   "nbconvert_exporter": "python",
   "pygments_lexer": "ipython3",
   "version": "3.7.3"
  }
 },
 "nbformat": 4,
 "nbformat_minor": 2
}
