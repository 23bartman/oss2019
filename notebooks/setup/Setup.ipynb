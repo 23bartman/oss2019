{
 "cells": [
  {
   "cell_type": "markdown",
   "metadata": {},
   "source": [
    "## Setup scripts to run on a new Jupyter instance\n",
    "\n",
    "todo: execute this notebook on jupyter start up"
   ]
  },
  {
   "cell_type": "markdown",
   "metadata": {},
   "source": [
    "## Setup scripts to run on a new Jupyter instance\n",
    "\n",
    "todo: execute this notebook on jupyter start up\n",
    "    \n",
    "### step: install dependencies"
   ]
  },
  {
   "cell_type": "code",
   "execution_count": 1,
   "metadata": {},
   "outputs": [
    {
     "name": "stdout",
     "output_type": "stream",
     "text": [
      "\u001b[33mWARNING: The directory '/home/jovyan/.cache/pip/http' or its parent directory is not owned by the current user and the cache has been disabled. Please check the permissions and owner of that directory. If executing pip with sudo, you may want sudo's -H flag.\u001b[0m\n",
      "\u001b[33mWARNING: The directory '/home/jovyan/.cache/pip' or its parent directory is not owned by the current user and caching wheels has been disabled. check the permissions and owner of that directory. If executing pip with sudo, you may want sudo's -H flag.\u001b[0m\n",
      "Collecting python-frontmatter\n",
      "  Downloading https://files.pythonhosted.org/packages/7f/06/a4141a23bff3fb27e634a38a500da71aa155aca28e8b9d635ea591651375/python_frontmatter-0.4.5-py3-none-any.whl\n",
      "Collecting PyYAML (from python-frontmatter)\n",
      "\u001b[?25l  Downloading https://files.pythonhosted.org/packages/9f/2c/9417b5c774792634834e730932745bc09a7d36754ca00acf1ccd1ac2594d/PyYAML-5.1.tar.gz (274kB)\n",
      "\u001b[K     |████████████████████████████████| 276kB 3.6MB/s eta 0:00:01\n",
      "\u001b[?25hRequirement already satisfied: six in /opt/conda/lib/python3.7/site-packages (from python-frontmatter) (1.12.0)\n",
      "Building wheels for collected packages: PyYAML\n",
      "  Building wheel for PyYAML (setup.py) ... \u001b[?25ldone\n",
      "\u001b[?25h  Stored in directory: /home/jovyan/.cache/pip/wheels/ad/56/bc/1522f864feb2a358ea6f1a92b4798d69ac783a28e80567a18b\n",
      "Successfully built PyYAML\n",
      "Installing collected packages: PyYAML, python-frontmatter\n",
      "Successfully installed PyYAML-5.1 python-frontmatter-0.4.5\n"
     ]
    }
   ],
   "source": [
    "!pip install python-frontmatter qgrid pbx_gs_python_utils"
   ]
  },
  {
   "cell_type": "markdown",
   "metadata": {},
   "source": [
    "### step: setup git\n",
    "\n",
    "Enable this enviroment to push to your GitHub fork of this repo\n",
    "\n",
    "_note don't run this on the local docker machine_"
   ]
  },
  {
   "cell_type": "code",
   "execution_count": null,
   "metadata": {},
   "outputs": [],
   "source": [
    "!mkdir /home/jovyan/.ssh\n",
    "# add github ssh signature to known_hosts\n",
    "!echo \"github.com ssh-rsa AAAAB3NzaC1yc2EAAAABIwAAAQEAq2A7hRGmdnm9tUDbO9IDSwBK6TbQa+PXYPCPy6rbTrTtw7PHkccKrpp0yVhp5HdEIcKr6pLlVDBfOLX9QUsyCOV0wzfjIJNlGEYsdlLJizHhbn2mUjvSAHQqZETYP81eFzLQNnPHt4EVVUh7VfDESU84KezmD5QlWpXLmvU31/yMf+Se8xhHTvKSCZIFImWwoG6mbUoWf9nzpIoaSjB+weqqUUmpaaasXVal72J+UX2B+2RPW3RcT0eOzQgqlJL3RKrTJvdsjE3JEAvGq3lGHSZXy28G3skua2SmVi/w4yCE6gbODqnTWlg7+wC604ydGXA8VJiS5ap43JXiUFFAaQ==\" >> /home/jovyan/.ssh/known_hosts\n",
    "\n",
    "!ssh-keygen -f /home/jovyan/.ssh/id_rsa -t rsa -N ''\n",
    "\n",
    "!cat /home/jovyan/.ssh/id_rsa.pub\n",
    "\n",
    "!git config --global user.email \"oss_bot@open-security-summit.org\"\n",
    "!git config --global user.name \"oss_bot\"\n",
    "\n",
    "!git remote set-url origin git@github.com:OpenSecuritySummit/oss2019.git\n",
    "    "
   ]
  },
  {
   "cell_type": "code",
   "execution_count": null,
   "metadata": {},
   "outputs": [],
   "source": [
    "!git status\n",
    "!git add {file} # note: need to add a number of the jupyter notebook/linux tmp folders (like .ssh and .bash and .jupyter) to .gitignore\n",
    "!git commit -m 'files created/changed in mybinder'\n",
    "\n",
    "### note: command below didn't work , looks like mybinder is blocking ssh\n",
    "!git push origin master"
   ]
  }
 ],
 "metadata": {
  "kernelspec": {
   "display_name": "Python 3",
   "language": "python",
   "name": "python3"
  },
  "language_info": {
   "codemirror_mode": {
    "name": "ipython",
    "version": 3
   },
   "file_extension": ".py",
   "mimetype": "text/x-python",
   "name": "python",
   "nbconvert_exporter": "python",
   "pygments_lexer": "ipython3",
   "version": "3.7.3"
  }
 },
 "nbformat": 4,
 "nbformat_minor": 2
}
