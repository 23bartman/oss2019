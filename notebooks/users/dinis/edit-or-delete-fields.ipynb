{
 "cells": [
  {
   "cell_type": "markdown",
   "metadata": {},
   "source": [
    "## Edit or detete participant fields\n",
    "\n",
    "Notebook used to do batch edits or deletions of participant's fields"
   ]
  },
  {
   "cell_type": "code",
   "execution_count": 23,
   "metadata": {},
   "outputs": [],
   "source": [
    "#%load_ext autoreload\n",
    "%autoreload\n",
    "from oss_hugo.OSS_Participant import OSS_Participant\n",
    "from oss_hugo.API_Hugo_OSS import API_Hugo_OSS\n",
    "from oss_hugo.OSS_GSheet_Data import OSS_GSheet_Data\n"
   ]
  },
  {
   "cell_type": "code",
   "execution_count": 28,
   "metadata": {},
   "outputs": [],
   "source": [
    "%autoreload\n",
    "data = OSS_GSheet_Data()\n",
    "hugo = API_Hugo_OSS()\n",
    "participants = list(hugo.participants().values())"
   ]
  },
  {
   "cell_type": "code",
   "execution_count": 33,
   "metadata": {},
   "outputs": [
    {
     "data": {
      "text/plain": [
       "{'path': '/content/participant/brett-crawley.md',\n",
       " 'content': '<!-- put more details about participant here -->',\n",
       " 'metadata': {'chapter_leader': '',\n",
       "  'company': '',\n",
       "  'email': '',\n",
       "  'eventbrite_id': '',\n",
       "  'facebook': '',\n",
       "  'image': '',\n",
       "  'job_title': '',\n",
       "  'linkedin': '',\n",
       "  'notes': '',\n",
       "  'project_leader': '',\n",
       "  'sessions': [],\n",
       "  'status': 'add-details',\n",
       "  'title': 'Brett Crawley',\n",
       "  'travel_from': '',\n",
       "  'twitter': '',\n",
       "  'type': 'participant',\n",
       "  'website': ''}}"
      ]
     },
     "execution_count": 33,
     "metadata": {},
     "output_type": "execute_result"
    }
   ],
   "source": [
    "participants[0]"
   ]
  },
  {
   "cell_type": "code",
   "execution_count": null,
   "metadata": {},
   "outputs": [],
   "source": []
  },
  {
   "cell_type": "code",
   "execution_count": null,
   "metadata": {},
   "outputs": [],
   "source": []
  }
 ],
 "metadata": {
  "kernelspec": {
   "display_name": "Python 3",
   "language": "python",
   "name": "python3"
  },
  "language_info": {
   "codemirror_mode": {
    "name": "ipython",
    "version": 3
   },
   "file_extension": ".py",
   "mimetype": "text/x-python",
   "name": "python",
   "nbconvert_exporter": "python",
   "pygments_lexer": "ipython3",
   "version": "3.7.3"
  }
 },
 "nbformat": 4,
 "nbformat_minor": 2
}
