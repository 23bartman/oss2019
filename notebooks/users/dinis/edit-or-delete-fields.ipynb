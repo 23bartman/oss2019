{
 "cells": [
  {
   "cell_type": "markdown",
   "metadata": {},
   "source": [
    "## Edit or detete participant fields\n",
    "\n",
    "Notebook used to do batch edits or deletions of participant's fields"
   ]
  },
  {
   "cell_type": "code",
   "execution_count": 35,
   "metadata": {},
   "outputs": [],
   "source": [
    "#%load_ext autoreload\n",
    "%autoreload\n",
    "from oss_hugo.OSS_Participant import OSS_Participant\n",
    "from oss_hugo.API_Hugo_OSS import API_Hugo_OSS\n",
    "from oss_hugo.OSS_GSheet_Data import OSS_GSheet_Data\n"
   ]
  },
  {
   "cell_type": "code",
   "execution_count": 36,
   "metadata": {},
   "outputs": [
    {
     "data": {
      "text/plain": [
       "<oss_hugo.API_Hugo_OSS.API_Hugo_OSS at 0x7f087fb36438>"
      ]
     },
     "execution_count": 36,
     "metadata": {},
     "output_type": "execute_result"
    }
   ],
   "source": [
    "%autoreload\n",
    "data = OSS_GSheet_Data()\n",
    "hugo = API_Hugo_OSS()\n",
    "#participants = list(hugo.participants().values())\n"
   ]
  },
  {
   "cell_type": "code",
   "execution_count": 62,
   "metadata": {},
   "outputs": [
    {
     "data": {
      "text/plain": [
       "'abc'"
      ]
     },
     "execution_count": 62,
     "metadata": {},
     "output_type": "execute_result"
    }
   ],
   "source": [
    "%autoreload\n",
    "md_participants = hugo.md_files_participants()\n",
    "md_participant  = md_participants[0]\n",
    "participant     = OSS_Participant(md_participant)\n",
    "participant.metadata()\n",
    "participant.field('type','abc')\n",
    "participant.field('type')\n",
    "participant.save()\n",
    "participant.load(True)\n",
    "participant.field('type')\n"
   ]
  },
  {
   "cell_type": "code",
   "execution_count": 33,
   "metadata": {},
   "outputs": [
    {
     "data": {
      "text/plain": [
       "True"
      ]
     },
     "execution_count": 33,
     "metadata": {},
     "output_type": "execute_result"
    }
   ],
   "source": [
    "%autoreload\n",
    "from oss_hugo.OSS_Participant import OSS_Participant\n",
    "participant = OSS_Participant('another-test.md').create()\n",
    "participant.delete_field('travel_from')\n",
    "participant.fields()\n",
    "participant.delete()\n"
   ]
  },
  {
   "cell_type": "code",
   "execution_count": 27,
   "metadata": {},
   "outputs": [
    {
     "data": {
      "text/plain": [
       "<function str.startswith>"
      ]
     },
     "execution_count": 27,
     "metadata": {},
     "output_type": "execute_result"
    }
   ],
   "source": [
    "\"\".startswith"
   ]
  },
  {
   "cell_type": "code",
   "execution_count": null,
   "metadata": {},
   "outputs": [],
   "source": []
  }
 ],
 "metadata": {
  "kernelspec": {
   "display_name": "Python 3",
   "language": "python",
   "name": "python3"
  }
 },
 "nbformat": 4,
 "nbformat_minor": 2
}
