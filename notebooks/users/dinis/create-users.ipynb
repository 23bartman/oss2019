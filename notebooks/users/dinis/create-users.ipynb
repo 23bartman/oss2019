{
 "cells": [
  {
   "cell_type": "markdown",
   "metadata": {},
   "source": [
    "## Create users\n",
    "\n",
    "Notebook used to create users"
   ]
  },
  {
   "cell_type": "code",
   "execution_count": 11,
   "metadata": {},
   "outputs": [],
   "source": [
    "from oss_hugo.OSS_Participant import OSS_Participant"
   ]
  },
  {
   "cell_type": "code",
   "execution_count": 19,
   "metadata": {},
   "outputs": [
    {
     "data": {
      "text/html": [
       "<div>\n",
       "<style scoped>\n",
       "    .dataframe tbody tr th:only-of-type {\n",
       "        vertical-align: middle;\n",
       "    }\n",
       "\n",
       "    .dataframe tbody tr th {\n",
       "        vertical-align: top;\n",
       "    }\n",
       "\n",
       "    .dataframe thead th {\n",
       "        text-align: right;\n",
       "    }\n",
       "</style>\n",
       "<table border=\"1\" class=\"dataframe\">\n",
       "  <thead>\n",
       "    <tr style=\"text-align: right;\">\n",
       "      <th></th>\n",
       "      <th>_status</th>\n",
       "      <th>name</th>\n",
       "    </tr>\n",
       "  </thead>\n",
       "  <tbody>\n",
       "    <tr>\n",
       "      <th>0</th>\n",
       "      <td>error</td>\n",
       "      <td>Alicia Barnes</td>\n",
       "    </tr>\n",
       "    <tr>\n",
       "      <th>1</th>\n",
       "      <td>error</td>\n",
       "      <td>Adrian Taylor</td>\n",
       "    </tr>\n",
       "  </tbody>\n",
       "</table>\n",
       "</div>"
      ],
      "text/plain": [
       "  _status           name\n",
       "0   error  Alicia Barnes\n",
       "1   error  Adrian Taylor"
      ]
     },
     "execution_count": 19,
     "metadata": {},
     "output_type": "execute_result"
    }
   ],
   "source": [
    "names = [ 'Alicia Barnes','Adrian Taylor','Ashleigh Eastway','Ashraf Aboukass',\n",
    "          'Azzeddine Ramrami','Brett Crawley','Brian Johnson','Christopher Dobson',\n",
    "          'Colin Lobley','Cybil Colaco','DSC-5','DSC-6','Dan Ashby','David English',\n",
    "          'David Jensen','Deepak Subramanian','EJ Quinn','Emily Berman','Emma Fang',\n",
    "          'Felix Kariuki','Florian Buetow','Foteini Karantoni','Gabor Pek','George Glass',\n",
    "          'Harold Blankenship','Hwee Ching Neo','Jeroen Beckers','Jill McDonald','John Ellingsworth',\n",
    "          'Karen Navas','Marco Mancini','Michael Duff','Mike McCamon','Mustafa Kasmani',\n",
    "          'Patricia Duarte','Pedro Dantas','Peter Hicks','Pravinder Arora','Rebecca Ditchburn',\n",
    "          'Robert Grace','Roberto Pérez','Roger Comastorres','Sarah Clark','Scott Hayward',\n",
    "          'Simon Wardley','Steven van der Baan','William Devos','Wouter de Meijer',\n",
    "          'Xavier Delgado','Yan Kravchenko','Zsolt Kalman','Zuhal Vargun']\n",
    "results = []\n",
    "for name in names:    \n",
    "    result = OSS_Participant().create(name)\n",
    "    results.append({'_status': result.get('status'), 'name': name})\n",
    "\n",
    "pd.DataFrame(results)\n"
   ]
  },
  {
   "cell_type": "code",
   "execution_count": 14,
   "metadata": {},
   "outputs": [
    {
     "data": {
      "text/plain": [
       "{'status': 'error',\n",
       " 'data': 'target file already existed: /home/jovyan/content/participant/adrian-taylor.md'}"
      ]
     },
     "execution_count": 14,
     "metadata": {},
     "output_type": "execute_result"
    }
   ],
   "source": []
  },
  {
   "cell_type": "code",
   "execution_count": null,
   "metadata": {},
   "outputs": [],
   "source": []
  },
  {
   "cell_type": "code",
   "execution_count": null,
   "metadata": {},
   "outputs": [],
   "source": []
  }
 ],
 "metadata": {
  "kernelspec": {
   "display_name": "Python 3",
   "language": "python",
   "name": "python3"
  },
  "language_info": {
   "codemirror_mode": {
    "name": "ipython",
    "version": 3
   },
   "file_extension": ".py",
   "mimetype": "text/x-python",
   "name": "python",
   "nbconvert_exporter": "python",
   "pygments_lexer": "ipython3",
   "version": "3.7.3"
  }
 },
 "nbformat": 4,
 "nbformat_minor": 2
}
